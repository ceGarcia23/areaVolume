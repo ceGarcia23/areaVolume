{
 "cells": [
  {
   "cell_type": "code",
   "execution_count": 18,
   "id": "0468b1ae",
   "metadata": {},
   "outputs": [
    {
     "name": "stdout",
     "output_type": "stream",
     "text": [
      "Ingrese el lado del cuadrado: 15\n",
      "El área del cuadrado es: 225.0\n"
     ]
    },
    {
     "data": {
      "image/png": "[encoded data removed]",
      "text/plain": [
       "<Figure size 640x480 with 1 Axes>"
      ]
     },
     "metadata": {},
     "output_type": "display_data"
    }
   ],
   "source": [
    "import matplotlib.pyplot as plt\n",
    "\n",
    "# Función para calcular el área del cuadrado\n",
    "def area_cuadrado(lado):\n",
    "    return lado ** 2\n",
    "\n",
    "# Función para graficar un cuadrado\n",
    "def graficar_cuadrado(lado):\n",
    "    plt.plot([0, lado, lado, 0, 0], [0, 0, lado, lado, 0])\n",
    "    plt.show()\n",
    "\n",
    "# Función principal\n",
    "def main():\n",
    "    # Pedimos al usuario que ingrese el lado del cuadrado\n",
    "    lado = float(input(\"Ingrese el lado del cuadrado: \"))\n",
    "    \n",
    "    # Calculamos el área y la imprimimos\n",
    "    area = area_cuadrado(lado)\n",
    "    print(f\"El área del cuadrado es: {area}\")\n",
    "    \n",
    "    # Graficamos el cuadrado\n",
    "    graficar_cuadrado(lado)\n",
    "\n",
    "if __name__ == '__main__':\n",
    "    main()\n"
   ]
  },
  {
   "cell_type": "code",
   "execution_count": null,
   "id": "7938fe4d",
   "metadata": {},
   "outputs": [],
   "source": []
  },
  {
   "cell_type": "code",
   "execution_count": null,
   "id": "9048ca95",
   "metadata": {},
   "outputs": [],
   "source": [
    "\n",
    "    "
   ]
  },
  {
   "cell_type": "code",
   "execution_count": null,
   "id": "0038ab73",
   "metadata": {},
   "outputs": [],
   "source": []
  }
 ],
 "metadata": {
  "kernelspec": {
   "display_name": "Python 3 (ipykernel)",
   "language": "python",
   "name": "python3"
  },
  "language_info": {
   "codemirror_mode": {
    "name": "ipython",
    "version": 3
   },
   "file_extension": ".py",
   "mimetype": "text/x-python",
   "name": "python",
   "nbconvert_exporter": "python",
   "pygments_lexer": "ipython3",
   "version": "3.9.13"
  }
 },
 "nbformat": 4,
 "nbformat_minor": 5
}
