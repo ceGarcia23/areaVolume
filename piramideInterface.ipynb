{
 "cells": [
  {
   "cell_type": "code",
   "execution_count": 1,
   "id": "c5bbc71d",
   "metadata": {},
   "outputs": [],
   "source": [
    "import tkinter as tk\n",
    "from tkinter import messagebox\n",
    "import math\n",
    "\n",
    "def calcular_volumen_piramide(base, altura):\n",
    "    volumen = (1/3) * base**2 * altura\n",
    "    return volumen\n",
    "\n",
    "def on_button_click():\n",
    "    try:\n",
    "        base = float(base_entry.get())\n",
    "        altura = float(altura_entry.get())\n",
    "        volumen = calcular_volumen_piramide(base, altura)\n",
    "        volumen_label.config(text=\"El volumen de la pirámide es: {:.2f} metros cúbicos\".format(volumen))\n",
    "    except ValueError:\n",
    "        messagebox.showerror(\"Error\", \"Por favor ingrese valores numéricos para la base y la altura.\")\n",
    "\n",
    "# Crear la ventana\n",
    "ventana = tk.Tk()\n",
    "ventana.title(\"Calculadora de volumen de pirámide\")\n",
    "\n",
    "# Crear los widgets\n",
    "base_label = tk.Label(ventana, text=\"Base (metros):\")\n",
    "altura_label = tk.Label(ventana, text=\"Altura (metros):\")\n",
    "base_entry = tk.Entry(ventana)\n",
    "altura_entry = tk.Entry(ventana)\n",
    "calcular_button = tk.Button(ventana, text=\"Calcular\", command=on_button_click)\n",
    "volumen_label = tk.Label(ventana, text=\"\")\n",
    "\n",
    "# Posicionar los widgets\n",
    "base_label.grid(row=0, column=0)\n",
    "base_entry.grid(row=0, column=1)\n",
    "altura_label.grid(row=1, column=0)\n",
    "altura_entry.grid(row=1, column=1)\n",
    "calcular_button.grid(row=2, column=0, columnspan=2, pady=10)\n",
    "volumen_label.grid(row=3, column=0, columnspan=2)\n",
    "\n",
    "# Ejecutar la ventana\n",
    "ventana.mainloop()\n",
    "\n"
   ]
  },
  {
   "cell_type": "code",
   "execution_count": null,
   "id": "822ff5c4",
   "metadata": {},
   "outputs": [],
   "source": []
  },
  {
   "cell_type": "code",
   "execution_count": null,
   "id": "a1c90137",
   "metadata": {},
   "outputs": [],
   "source": []
  }
 ],
 "metadata": {
  "kernelspec": {
   "display_name": "Python 3 (ipykernel)",
   "language": "python",
   "name": "python3"
  },
  "language_info": {
   "codemirror_mode": {
    "name": "ipython",
    "version": 3
   },
   "file_extension": ".py",
   "mimetype": "text/x-python",
   "name": "python",
   "nbconvert_exporter": "python",
   "pygments_lexer": "ipython3",
   "version": "3.9.13"
  }
 },
 "nbformat": 4,
 "nbformat_minor": 5
}
